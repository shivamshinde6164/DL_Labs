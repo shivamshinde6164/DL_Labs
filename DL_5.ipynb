{
 "cells": [
  {
   "cell_type": "markdown",
   "metadata": {
    "id": "i_GcJlVrDgBk"
   },
   "source": [
    "Roll no : B512051 <br>\n",
    "BE : Information Technology<br>\n",
    "Div : B <br>\n",
    "\n",
    "**Assignment : 5**<br>"
   ]
  },
  {
   "cell_type": "code",
   "execution_count": 1,
   "metadata": {
    "id": "V51q50EbF-T9"
   },
   "outputs": [],
   "source": [
    "#importing libraries\n",
    "from keras.preprocessing import text\n",
    "from keras.preprocessing import sequence\n",
    "from keras.utils import pad_sequences\n",
    "from keras.utils import to_categorical\n",
    "import numpy as np\n",
    "import pandas as pd"
   ]
  },
  {
   "cell_type": "code",
   "execution_count": 2,
   "metadata": {
    "id": "wBUwYdBJElVz"
   },
   "outputs": [],
   "source": [
    "#taking random sentences as data\n",
    "data = \"\"\"Deep learning (also known as deep structured learning) is part of a broader family of machine learning methods based on artificial neural networks with representation learning. Learning can be supervised, semi-supervised or unsupervised. \n",
    "Deep-learning architectures such as deep neural networks, deep belief networks, deep reinforcement learning, recurrent neural networks, convolutional neural networks and Transformers have been applied to fields including computer vision, speech recognition, natural language processing, machine translation, bioinformatics, drug design, medical image analysis, climate science, material inspection and board game programs, where they have produced results comparable to and in some cases surpassing human expert performance.\n",
    "\"\"\"\n",
    "dl_data = data.split()"
   ]
  },
  {
   "cell_type": "code",
   "execution_count": 3,
   "metadata": {
    "colab": {
     "base_uri": "https://localhost:8080/"
    },
    "id": "celNk9LmEvm8",
    "outputId": "4e2143b6-92dc-452f-f468-7c9e6238e287"
   },
   "outputs": [
    {
     "name": "stdout",
     "output_type": "stream",
     "text": [
      "Vocabulary Size: 75\n",
      "Vocabulary Sample: [('learning', 1), ('deep', 2), ('networks', 3), ('neural', 4), ('and', 5), ('as', 6), ('of', 7), ('machine', 8), ('supervised', 9), ('have', 10)]\n"
     ]
    }
   ],
   "source": [
    "#tokenization\n",
    "tokenizer = text.Tokenizer()\n",
    "tokenizer.fit_on_texts(dl_data)\n",
    "word2id = tokenizer.word_index\n",
    "\n",
    "word2id['PAD'] = 0\n",
    "id2word = {v:k for k, v in word2id.items()}\n",
    "wids = [[word2id[w] for w in text.text_to_word_sequence(doc)] for doc in dl_data]\n",
    "\n",
    "vocab_size = len(word2id)\n",
    "embed_size = 100\n",
    "window_size = 2 \n",
    "\n",
    "print('Vocabulary Size:', vocab_size)\n",
    "print('Vocabulary Sample:', list(word2id.items())[:10])"
   ]
  },
  {
   "cell_type": "code",
   "execution_count": 4,
   "metadata": {
    "id": "AAxNYDanInQC"
   },
   "outputs": [],
   "source": [
    "#generating (context word, target/label word) pairs\n",
    "def generate_context_word_pairs(corpus, window_size, vocab_size):\n",
    "    context_length = window_size*2\n",
    "    for words in corpus:\n",
    "        sentence_length = len(words)\n",
    "        for index, word in enumerate(words):\n",
    "            context_words = []\n",
    "            label_word   = []            \n",
    "            start = index - window_size\n",
    "            end = index + window_size + 1\n",
    "            \n",
    "            context_words.append([words[i] \n",
    "                                 for i in range(start, end) \n",
    "                                 if 0 <= i < sentence_length \n",
    "                                 and i != index])\n",
    "            label_word.append(word)\n",
    "\n",
    "            x = pad_sequences(context_words, maxlen=context_length)\n",
    "            y = to_categorical(label_word, vocab_size)\n",
    "            yield (x, y)\n",
    "            \n",
    "i = 0\n",
    "for x, y in generate_context_word_pairs(corpus=wids, window_size=window_size, vocab_size=vocab_size):\n",
    "    if 0 not in x[0]:\n",
    "        # print('Context (X):', [id2word[w] for w in x[0]], '-> Target (Y):', id2word[np.argwhere(y[0])[0][0]])\n",
    "    \n",
    "        if i == 10:\n",
    "            break\n",
    "        i += 1"
   ]
  },
  {
   "cell_type": "code",
   "execution_count": 5,
   "metadata": {
    "colab": {
     "base_uri": "https://localhost:8080/"
    },
    "id": "Rb5dNmoZKZBv",
    "outputId": "b859c07e-6989-420d-b169-8aa0b93ff367"
   },
   "outputs": [
    {
     "name": "stdout",
     "output_type": "stream",
     "text": [
      "Model: \"sequential\"\n",
      "_________________________________________________________________\n",
      " Layer (type)                Output Shape              Param #   \n",
      "=================================================================\n",
      " embedding (Embedding)       (None, 4, 100)            7500      \n",
      "                                                                 \n",
      " lambda (Lambda)             (None, 100)               0         \n",
      "                                                                 \n",
      " dense (Dense)               (None, 75)                7575      \n",
      "                                                                 \n",
      "=================================================================\n",
      "Total params: 15075 (58.89 KB)\n",
      "Trainable params: 15075 (58.89 KB)\n",
      "Non-trainable params: 0 (0.00 Byte)\n",
      "_________________________________________________________________\n",
      "None\n"
     ]
    }
   ],
   "source": [
    "#model building\n",
    "import keras.backend as K\n",
    "from keras.models import Sequential\n",
    "from keras.layers import Dense, Embedding, Lambda\n",
    "\n",
    "cbow = Sequential()\n",
    "cbow.add(Embedding(input_dim=vocab_size, output_dim=embed_size, input_length=window_size*2))\n",
    "cbow.add(Lambda(lambda x: K.mean(x, axis=1), output_shape=(embed_size,)))\n",
    "cbow.add(Dense(vocab_size, activation='softmax'))\n",
    "cbow.compile(loss='categorical_crossentropy', optimizer='rmsprop')\n",
    "\n",
    "print(cbow.summary())\n",
    "\n",
    "# from IPython.display import SVG\n",
    "# from keras.utils.vis_utils import model_to_dot\n",
    "\n",
    "# SVG(model_to_dot(cbow, show_shapes=True, show_layer_names=False, rankdir='TB').create(prog='dot', format='svg'))"
   ]
  },
  {
   "cell_type": "code",
   "execution_count": 6,
   "metadata": {
    "colab": {
     "base_uri": "https://localhost:8080/"
    },
    "id": "xs12C3MDK1q4",
    "outputId": "fe8783b3-0ee1-4286-be40-6713afa14f9c"
   },
   "outputs": [
    {
     "name": "stdout",
     "output_type": "stream",
     "text": [
      "Epoch: 1 \tLoss: 433.59820890426636\n",
      "\n",
      "Epoch: 2 \tLoss: 429.42635464668274\n",
      "\n",
      "Epoch: 3 \tLoss: 426.333655834198\n",
      "\n",
      "Epoch: 4 \tLoss: 423.2802703380585\n",
      "\n",
      "Epoch: 5 \tLoss: 420.73696732521057\n",
      "\n"
     ]
    }
   ],
   "source": [
    "for epoch in range(1, 6):\n",
    "    loss = 0.\n",
    "    i = 0\n",
    "    for x, y in generate_context_word_pairs(corpus=wids, window_size=window_size, vocab_size=vocab_size):\n",
    "        i += 1\n",
    "        loss += cbow.train_on_batch(x, y)\n",
    "        if i % 100000 == 0:\n",
    "            print('Processed {} (context, word) pairs'.format(i))\n",
    "\n",
    "    print('Epoch:', epoch, '\\tLoss:', loss)\n",
    "    print()"
   ]
  },
  {
   "cell_type": "code",
   "execution_count": 7,
   "metadata": {
    "colab": {
     "base_uri": "https://localhost:8080/",
     "height": 253
    },
    "id": "TZ3_QGKVK6Tj",
    "outputId": "cd9d167a-85a3-4cc9-eccb-faf997526122"
   },
   "outputs": [
    {
     "name": "stdout",
     "output_type": "stream",
     "text": [
      "(74, 100)\n"
     ]
    },
    {
     "data": {
      "text/html": [
       "<div>\n",
       "<style scoped>\n",
       "    .dataframe tbody tr th:only-of-type {\n",
       "        vertical-align: middle;\n",
       "    }\n",
       "\n",
       "    .dataframe tbody tr th {\n",
       "        vertical-align: top;\n",
       "    }\n",
       "\n",
       "    .dataframe thead th {\n",
       "        text-align: right;\n",
       "    }\n",
       "</style>\n",
       "<table border=\"1\" class=\"dataframe\">\n",
       "  <thead>\n",
       "    <tr style=\"text-align: right;\">\n",
       "      <th></th>\n",
       "      <th>0</th>\n",
       "      <th>1</th>\n",
       "      <th>2</th>\n",
       "      <th>3</th>\n",
       "      <th>4</th>\n",
       "      <th>5</th>\n",
       "      <th>6</th>\n",
       "      <th>7</th>\n",
       "      <th>8</th>\n",
       "      <th>9</th>\n",
       "      <th>...</th>\n",
       "      <th>90</th>\n",
       "      <th>91</th>\n",
       "      <th>92</th>\n",
       "      <th>93</th>\n",
       "      <th>94</th>\n",
       "      <th>95</th>\n",
       "      <th>96</th>\n",
       "      <th>97</th>\n",
       "      <th>98</th>\n",
       "      <th>99</th>\n",
       "    </tr>\n",
       "  </thead>\n",
       "  <tbody>\n",
       "    <tr>\n",
       "      <th>deep</th>\n",
       "      <td>-0.001231</td>\n",
       "      <td>-0.005807</td>\n",
       "      <td>-0.045721</td>\n",
       "      <td>-0.022160</td>\n",
       "      <td>-0.012704</td>\n",
       "      <td>-0.034014</td>\n",
       "      <td>0.033726</td>\n",
       "      <td>-0.005352</td>\n",
       "      <td>-0.019183</td>\n",
       "      <td>0.051679</td>\n",
       "      <td>...</td>\n",
       "      <td>0.031605</td>\n",
       "      <td>0.025645</td>\n",
       "      <td>0.041244</td>\n",
       "      <td>0.050031</td>\n",
       "      <td>0.023939</td>\n",
       "      <td>-0.044612</td>\n",
       "      <td>0.028642</td>\n",
       "      <td>0.002529</td>\n",
       "      <td>0.008969</td>\n",
       "      <td>0.020641</td>\n",
       "    </tr>\n",
       "    <tr>\n",
       "      <th>networks</th>\n",
       "      <td>-0.033846</td>\n",
       "      <td>-0.005145</td>\n",
       "      <td>0.037111</td>\n",
       "      <td>-0.010425</td>\n",
       "      <td>-0.030259</td>\n",
       "      <td>-0.014187</td>\n",
       "      <td>0.030208</td>\n",
       "      <td>0.055199</td>\n",
       "      <td>0.014365</td>\n",
       "      <td>-0.026938</td>\n",
       "      <td>...</td>\n",
       "      <td>-0.026450</td>\n",
       "      <td>0.021003</td>\n",
       "      <td>0.063865</td>\n",
       "      <td>-0.011793</td>\n",
       "      <td>-0.037458</td>\n",
       "      <td>-0.011196</td>\n",
       "      <td>0.032356</td>\n",
       "      <td>0.042251</td>\n",
       "      <td>-0.010572</td>\n",
       "      <td>-0.007767</td>\n",
       "    </tr>\n",
       "    <tr>\n",
       "      <th>neural</th>\n",
       "      <td>-0.046149</td>\n",
       "      <td>-0.040021</td>\n",
       "      <td>0.044681</td>\n",
       "      <td>-0.015173</td>\n",
       "      <td>0.006778</td>\n",
       "      <td>0.010409</td>\n",
       "      <td>-0.026511</td>\n",
       "      <td>-0.036249</td>\n",
       "      <td>0.045735</td>\n",
       "      <td>-0.031055</td>\n",
       "      <td>...</td>\n",
       "      <td>0.011430</td>\n",
       "      <td>-0.037283</td>\n",
       "      <td>-0.026031</td>\n",
       "      <td>0.046237</td>\n",
       "      <td>-0.042745</td>\n",
       "      <td>0.037076</td>\n",
       "      <td>-0.016463</td>\n",
       "      <td>-0.043166</td>\n",
       "      <td>-0.007014</td>\n",
       "      <td>0.009557</td>\n",
       "    </tr>\n",
       "    <tr>\n",
       "      <th>and</th>\n",
       "      <td>-0.043772</td>\n",
       "      <td>0.026363</td>\n",
       "      <td>-0.046133</td>\n",
       "      <td>-0.025545</td>\n",
       "      <td>0.029638</td>\n",
       "      <td>-0.012565</td>\n",
       "      <td>-0.003912</td>\n",
       "      <td>-0.011917</td>\n",
       "      <td>-0.008599</td>\n",
       "      <td>-0.048386</td>\n",
       "      <td>...</td>\n",
       "      <td>-0.012109</td>\n",
       "      <td>-0.003238</td>\n",
       "      <td>0.000365</td>\n",
       "      <td>0.040440</td>\n",
       "      <td>0.032485</td>\n",
       "      <td>0.024090</td>\n",
       "      <td>-0.019068</td>\n",
       "      <td>0.039798</td>\n",
       "      <td>0.028834</td>\n",
       "      <td>0.013763</td>\n",
       "    </tr>\n",
       "    <tr>\n",
       "      <th>as</th>\n",
       "      <td>-0.049785</td>\n",
       "      <td>0.001000</td>\n",
       "      <td>-0.049653</td>\n",
       "      <td>-0.005594</td>\n",
       "      <td>0.022826</td>\n",
       "      <td>-0.029438</td>\n",
       "      <td>-0.044222</td>\n",
       "      <td>-0.003370</td>\n",
       "      <td>-0.049928</td>\n",
       "      <td>0.027463</td>\n",
       "      <td>...</td>\n",
       "      <td>0.016845</td>\n",
       "      <td>0.046558</td>\n",
       "      <td>0.007143</td>\n",
       "      <td>-0.002468</td>\n",
       "      <td>-0.032365</td>\n",
       "      <td>-0.029789</td>\n",
       "      <td>-0.043842</td>\n",
       "      <td>0.019945</td>\n",
       "      <td>0.002039</td>\n",
       "      <td>0.004239</td>\n",
       "    </tr>\n",
       "  </tbody>\n",
       "</table>\n",
       "<p>5 rows × 100 columns</p>\n",
       "</div>"
      ],
      "text/plain": [
       "                0         1         2         3         4         5   \\\n",
       "deep     -0.001231 -0.005807 -0.045721 -0.022160 -0.012704 -0.034014   \n",
       "networks -0.033846 -0.005145  0.037111 -0.010425 -0.030259 -0.014187   \n",
       "neural   -0.046149 -0.040021  0.044681 -0.015173  0.006778  0.010409   \n",
       "and      -0.043772  0.026363 -0.046133 -0.025545  0.029638 -0.012565   \n",
       "as       -0.049785  0.001000 -0.049653 -0.005594  0.022826 -0.029438   \n",
       "\n",
       "                6         7         8         9   ...        90        91  \\\n",
       "deep      0.033726 -0.005352 -0.019183  0.051679  ...  0.031605  0.025645   \n",
       "networks  0.030208  0.055199  0.014365 -0.026938  ... -0.026450  0.021003   \n",
       "neural   -0.026511 -0.036249  0.045735 -0.031055  ...  0.011430 -0.037283   \n",
       "and      -0.003912 -0.011917 -0.008599 -0.048386  ... -0.012109 -0.003238   \n",
       "as       -0.044222 -0.003370 -0.049928  0.027463  ...  0.016845  0.046558   \n",
       "\n",
       "                92        93        94        95        96        97  \\\n",
       "deep      0.041244  0.050031  0.023939 -0.044612  0.028642  0.002529   \n",
       "networks  0.063865 -0.011793 -0.037458 -0.011196  0.032356  0.042251   \n",
       "neural   -0.026031  0.046237 -0.042745  0.037076 -0.016463 -0.043166   \n",
       "and       0.000365  0.040440  0.032485  0.024090 -0.019068  0.039798   \n",
       "as        0.007143 -0.002468 -0.032365 -0.029789 -0.043842  0.019945   \n",
       "\n",
       "                98        99  \n",
       "deep      0.008969  0.020641  \n",
       "networks -0.010572 -0.007767  \n",
       "neural   -0.007014  0.009557  \n",
       "and       0.028834  0.013763  \n",
       "as        0.002039  0.004239  \n",
       "\n",
       "[5 rows x 100 columns]"
      ]
     },
     "execution_count": 7,
     "metadata": {},
     "output_type": "execute_result"
    }
   ],
   "source": [
    "weights = cbow.get_weights()[0]\n",
    "weights = weights[1:]\n",
    "print(weights.shape)\n",
    "\n",
    "pd.DataFrame(weights, index=list(id2word.values())[1:]).head()"
   ]
  },
  {
   "cell_type": "code",
   "execution_count": 8,
   "metadata": {
    "colab": {
     "base_uri": "https://localhost:8080/"
    },
    "id": "UFs2IAn_LAYS",
    "outputId": "87ae1249-6a80-484f-b4a2-4d5f20734db7"
   },
   "outputs": [
    {
     "name": "stdout",
     "output_type": "stream",
     "text": [
      "(74, 74)\n"
     ]
    },
    {
     "data": {
      "text/plain": [
       "{'deep': ['computer', 'known', 'drug', 'bioinformatics', 'science']}"
      ]
     },
     "execution_count": 8,
     "metadata": {},
     "output_type": "execute_result"
    }
   ],
   "source": [
    "from sklearn.metrics.pairwise import euclidean_distances\n",
    "\n",
    "distance_matrix = euclidean_distances(weights)\n",
    "print(distance_matrix.shape)\n",
    "\n",
    "similar_words = {search_term: [id2word[idx] for idx in distance_matrix[word2id[search_term]-1].argsort()[1:6]+1] \n",
    "                   for search_term in ['deep']}\n",
    "\n",
    "similar_words"
   ]
  },
  {
   "cell_type": "code",
   "execution_count": null,
   "metadata": {},
   "outputs": [],
   "source": []
  }
 ],
 "metadata": {
  "colab": {
   "collapsed_sections": [],
   "provenance": []
  },
  "kernelspec": {
   "display_name": "Python 3 (ipykernel)",
   "language": "python",
   "name": "python3"
  },
  "language_info": {
   "codemirror_mode": {
    "name": "ipython",
    "version": 3
   },
   "file_extension": ".py",
   "mimetype": "text/x-python",
   "name": "python",
   "nbconvert_exporter": "python",
   "pygments_lexer": "ipython3",
   "version": "3.9.13"
  }
 },
 "nbformat": 4,
 "nbformat_minor": 1
}
